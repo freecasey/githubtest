{
 "cells": [
  {
   "cell_type": "markdown",
   "metadata": {},
   "source": [
    "# AES侧信道攻击"
   ]
  },
  {
   "cell_type": "markdown",
   "metadata": {},
   "source": [
    "### 导入osrtoolkit示波器模块和波形存储类"
   ]
  },
  {
   "cell_type": "code",
   "execution_count": null,
   "metadata": {},
   "outputs": [],
   "source": [
    "from osrtoolkit.oscilloscope import Pico3000\n",
    "from osrtoolkit.trace import ETSStorer"
   ]
  },
  {
   "cell_type": "markdown",
   "metadata": {},
   "source": [
    "### 配置示波器控制模块"
   ]
  },
  {
   "cell_type": "code",
   "execution_count": null,
   "metadata": {},
   "outputs": [],
   "source": [
    "pico = Pico3000()  # 声明pico示波器对象\n",
    "pico.form  # 打开pico示波器配置界面"
   ]
  },
  {
   "cell_type": "markdown",
   "metadata": {},
   "source": [
    "### 配置波形存储类"
   ]
  },
  {
   "cell_type": "code",
   "execution_count": null,
   "metadata": {},
   "outputs": [],
   "source": [
    "ets = ETSStorer('AES128_mega.ets', open_type='w')  # open_type = 'w' or 'a'，如果已经存在文件， 'w' 将覆盖, ‘a’ 将在原文件进行追加 "
   ]
  },
  {
   "cell_type": "markdown",
   "metadata": {},
   "source": [
    "### 与 TOE 进行通信"
   ]
  },
  {
   "cell_type": "code",
   "execution_count": null,
   "metadata": {},
   "outputs": [],
   "source": [
    "import serial\n",
    "import numpy as np\n",
    "import time"
   ]
  },
  {
   "cell_type": "code",
   "execution_count": null,
   "metadata": {},
   "outputs": [],
   "source": [
    "mega = serial.Serial('com8', 115200, timeout=1)    # 设置板子串口"
   ]
  },
  {
   "cell_type": "code",
   "execution_count": null,
   "metadata": {},
   "outputs": [],
   "source": [
    "def get_meta():\n",
    "    p = np.random.randint(0, 256, 16, dtype=np.uint8)\n",
    "    send = p.tobytes()\n",
    "    mega.write(send)\n",
    "    recv = mega.read(16)\n",
    "    c = np.frombuffer(recv, dtype=np.uint8)\n",
    "    return p, c"
   ]
  },
  {
   "cell_type": "markdown",
   "metadata": {},
   "source": [
    "#### 获得一次meta数据"
   ]
  },
  {
   "cell_type": "code",
   "execution_count": null,
   "metadata": {},
   "outputs": [],
   "source": [
    "p,c = get_meta()\n",
    "p,c"
   ]
  },
  {
   "cell_type": "markdown",
   "metadata": {
    "toc-hr-collapsed": false
   },
   "source": [
    "### 触发示波器采集曲线并查看"
   ]
  },
  {
   "cell_type": "markdown",
   "metadata": {},
   "source": [
    "#### secquence采集"
   ]
  },
  {
   "cell_type": "code",
   "execution_count": null,
   "metadata": {},
   "outputs": [],
   "source": [
    "%matplotlib inline"
   ]
  },
  {
   "cell_type": "code",
   "execution_count": null,
   "metadata": {},
   "outputs": [],
   "source": [
    "import matplotlib.pyplot as plt"
   ]
  },
  {
   "cell_type": "code",
   "execution_count": null,
   "metadata": {},
   "outputs": [],
   "source": [
    "plt.rcParams['figure.figsize'] = 20,6"
   ]
  },
  {
   "cell_type": "code",
   "execution_count": null,
   "metadata": {},
   "outputs": [],
   "source": [
    "pico.arm()  # 将示波器置于等待触发模式，等待一次触发时间进行采集"
   ]
  },
  {
   "cell_type": "code",
   "execution_count": null,
   "metadata": {},
   "outputs": [],
   "source": [
    "for i in range(pico.sequence_num):\n",
    "    get_meta()# 控制TOE进行加密，完成对示波器的触发"
   ]
  },
  {
   "cell_type": "code",
   "execution_count": null,
   "metadata": {},
   "outputs": [],
   "source": [
    "trs = pico.acquire_samples()  # 从pico示波器取回数据"
   ]
  },
  {
   "cell_type": "code",
   "execution_count": null,
   "metadata": {},
   "outputs": [],
   "source": [
    "plt.plot(trs[0][0].T)\n",
    "plt.grid()\n",
    "plt.show()"
   ]
  },
  {
   "cell_type": "markdown",
   "metadata": {},
   "source": [
    "### 波形存储"
   ]
  },
  {
   "cell_type": "markdown",
   "metadata": {
    "toc-hr-collapsed": false
   },
   "source": [
    "#### 以secquence模式采集曲线"
   ]
  },
  {
   "cell_type": "code",
   "execution_count": null,
   "metadata": {},
   "outputs": [],
   "source": [
    "from tqdm import tnrange\n",
    "import time\n",
    "\n",
    "for i in tnrange(10):    # 设置secquence数\n",
    "    # 采集一个secquence的数据\n",
    "    pico.arm()\n",
    "    plaintext = np.empty((pico.sequence_num, 16), dtype=np.uint8)\n",
    "    ciphertext = np.empty((pico.sequence_num, 16), dtype=np.uint8)\n",
    "    flag = True\n",
    "    for j in range(pico.sequence_num):\n",
    "        m = get_meta()\n",
    "        plaintext[j] = m[0]\n",
    "        ciphertext[j] = m[1]\n",
    "    time.sleep(0.05)  # 这里必须对示波器进行一定的延迟后再进行数据拉取操作，以响应示波器时间\n",
    "    trs = pico.acquire_samples()\n",
    "    data = {'meta':{'plaintext': plaintext, 'ciphertext': ciphertext}, 'samples': trs}\n",
    "    ets.update(data)\n",
    "ets.finish()"
   ]
  },
  {
   "cell_type": "markdown",
   "metadata": {},
   "source": [
    "### 对AES实现实施CPA攻击"
   ]
  },
  {
   "cell_type": "markdown",
   "metadata": {},
   "source": [
    "#### 导入eshard的scared库"
   ]
  },
  {
   "cell_type": "code",
   "execution_count": null,
   "metadata": {},
   "outputs": [],
   "source": [
    "import scared\n",
    "from scared import aes"
   ]
  },
  {
   "cell_type": "markdown",
   "metadata": {},
   "source": [
    "#### 定义一个选择函数，对于所有可能的密钥假设，计算第一轮字节代换(SubByte)后输出的中间值。"
   ]
  },
  {
   "cell_type": "code",
   "execution_count": null,
   "metadata": {},
   "outputs": [],
   "source": [
    "S = aes.selection_functions.encrypt.FirstSubBytes()"
   ]
  },
  {
   "cell_type": "markdown",
   "metadata": {},
   "source": [
    "#### 建立一个CPA攻击对象，参数包括选择函数，泄露模型以及判别函数。"
   ]
  },
  {
   "cell_type": "code",
   "execution_count": null,
   "metadata": {},
   "outputs": [],
   "source": [
    "a = scared.CPAAttack(\n",
    "        selection_function=S,\n",
    "        model=scared.HammingWeight(),\n",
    "        discriminant=scared.maxabs)"
   ]
  },
  {
   "cell_type": "markdown",
   "metadata": {},
   "source": [
    "#### 攻击之前，需要一个能量迹容器将我们的TraceHeaderSet数据封装起来，同时指定攻击范围。"
   ]
  },
  {
   "cell_type": "code",
   "execution_count": null,
   "metadata": {},
   "outputs": [],
   "source": [
    "ths = scared.traces.read_ths_from_ets_file('AES128_mega.ets')"
   ]
  },
  {
   "cell_type": "code",
   "execution_count": null,
   "metadata": {},
   "outputs": [],
   "source": [
    "container = scared.Container(ths)"
   ]
  },
  {
   "cell_type": "markdown",
   "metadata": {},
   "source": [
    "#### 执行攻击"
   ]
  },
  {
   "cell_type": "code",
   "execution_count": null,
   "metadata": {},
   "outputs": [],
   "source": [
    "a.run(container)"
   ]
  },
  {
   "cell_type": "code",
   "execution_count": null,
   "metadata": {},
   "outputs": [],
   "source": [
    "a.results.shape"
   ]
  },
  {
   "cell_type": "markdown",
   "metadata": {},
   "source": [
    "a.results 提供计算结果，包含每一个可能的假设密钥（16个字节，每个字节有256种可能）对应的假设能量消耗值与在每一个位置记录的能量迹之间的相关系数。"
   ]
  },
  {
   "cell_type": "code",
   "execution_count": null,
   "metadata": {},
   "outputs": [],
   "source": []
  }
 ],
 "metadata": {
  "kernelspec": {
   "display_name": "Python 3",
   "language": "python",
   "name": "python3"
  },
  "language_info": {
   "codemirror_mode": {
    "name": "ipython",
    "version": 3
   },
   "file_extension": ".py",
   "mimetype": "text/x-python",
   "name": "python",
   "nbconvert_exporter": "python",
   "pygments_lexer": "ipython3",
   "version": "3.6.8"
  },
  "toc-autonumbering": true,
  "toc-showcode": false,
  "toc-showmarkdowntxt": false,
  "toc-showtags": true
 },
 "nbformat": 4,
 "nbformat_minor": 4
}
