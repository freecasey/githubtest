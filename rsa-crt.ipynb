{
 "cells": [
  {
   "cell_type": "markdown",
   "metadata": {},
   "source": [
    "# RSA-CRT"
   ]
  },
  {
   "cell_type": "markdown",
   "metadata": {},
   "source": [
    "# RSA-CRT\n",
    "我们拿到了Flag的RSA的加密结果：\n",
    "`0x32330c713085ef3efb33e5cb492c558543fec4642b4fbf20d9a7f3461adfddcba9d8916fb4f3079d5c79ce2dd29f4edc7c636739b0df8e55bf0c6304545e8ebc8ed5143547d0e0a826fb86e211d5a88abd557e948db2b41f86a629fe0a0f1259`\n",
    "和公钥`e`: `0x10001`\n",
    "\n",
    "并拿到了敌方`RSA-CRT`实现的随机签名工具，输入START即可获取随机签名消息和对应签名结果。\n",
    "\n",
    "你能帮我们恢复flag吗？\n",
    "\n"
   ]
  },
  {
   "cell_type": "code",
   "execution_count": null,
   "metadata": {},
   "outputs": [],
   "source": [
    "import serial\n",
    "import numpy as np\n",
    "import time"
   ]
  },
  {
   "cell_type": "code",
   "execution_count": 2,
   "metadata": {},
   "outputs": [],
   "source": [
    "com = serial.Serial('com68', 115200, timeout=0)"
   ]
  },
  {
   "cell_type": "code",
   "execution_count": 3,
   "metadata": {},
   "outputs": [],
   "source": [
    "def rsa():\n",
    "    '''\n",
    "    user code 通信\n",
    "    '''"
   ]
  },
  {
   "cell_type": "code",
   "execution_count": 4,
   "metadata": {},
   "outputs": [],
   "source": [
    "s = rsa()"
   ]
  },
  {
   "cell_type": "code",
   "execution_count": 5,
   "metadata": {},
   "outputs": [
    {
     "data": {
      "text/plain": [
       "b''"
      ]
     },
     "execution_count": 5,
     "metadata": {},
     "output_type": "execute_result"
    }
   ],
   "source": [
    "s"
   ]
  },
  {
   "cell_type": "markdown",
   "metadata": {},
   "source": [
    "#### 故障注入，产生错误输出"
   ]
  },
  {
   "cell_type": "markdown",
   "metadata": {},
   "source": [
    "**1. 定义并控制TOE重启**"
   ]
  },
  {
   "cell_type": "markdown",
   "metadata": {},
   "source": [
    "故障注入过程中，开发板可能会进入停止工作，此时需要将TOE进行重启。可通过将`OSR-2560`开发板断电和上电实现其重启。利用电磁故障注入设备扩展板的继电器，可以很方便的实现开发板的上下电。"
   ]
  },
  {
   "cell_type": "code",
   "execution_count": 6,
   "metadata": {},
   "outputs": [],
   "source": [
    "from osrtoolkit.fi import EMGlitcher\n",
    "from osrtoolkit.fi import TriggerSource\n",
    "from osrtoolkit.fi import TriggerEdge\n",
    "from osrtoolkit.fi import TriggerMode\n",
    "import time"
   ]
  },
  {
   "cell_type": "code",
   "execution_count": 7,
   "metadata": {},
   "outputs": [],
   "source": [
    "em = EMGlitcher()"
   ]
  },
  {
   "cell_type": "code",
   "execution_count": 9,
   "metadata": {},
   "outputs": [],
   "source": [
    "em.relay_set(1) # 第一路继电器设置为通，设备上电"
   ]
  },
  {
   "cell_type": "code",
   "execution_count": 10,
   "metadata": {},
   "outputs": [],
   "source": [
    "def reset_toe():  # 定义重启函数\n",
    "    '''\n",
    "    user code\n",
    "    '''"
   ]
  },
  {
   "cell_type": "markdown",
   "metadata": {},
   "source": [
    "**2. 测试使用电磁故障注入设备供电后，TOE运行情况**"
   ]
  },
  {
   "cell_type": "code",
   "execution_count": 11,
   "metadata": {},
   "outputs": [],
   "source": [
    "reset_toe()"
   ]
  },
  {
   "cell_type": "code",
   "execution_count": 12,
   "metadata": {},
   "outputs": [
    {
     "data": {
      "text/plain": [
       "b'REBOOT\\r\\nREBOOT\\r\\nMessage is:\\r\\n0x72860105090750205805180147891510\\r\\nSign is:\\r\\n0x646831BC0824CDBF38A54146ED332CF6CF2916A1B3FB77622DACCF3938207F6F7D35F9580CCB4F0B47F016D26305C6FE365DD245E1D147E02B40950329E79BA503A12EE87560C162FD6584CB4D940298C6150358422C38A285F9875C93D31BEC\\x00\\r\\n'"
      ]
     },
     "execution_count": 12,
     "metadata": {},
     "output_type": "execute_result"
    }
   ],
   "source": [
    "a = rsa()\n",
    "a"
   ]
  },
  {
   "cell_type": "markdown",
   "metadata": {},
   "source": [
    "**3. 配置触发信息**"
   ]
  },
  {
   "cell_type": "code",
   "execution_count": 13,
   "metadata": {},
   "outputs": [],
   "source": [
    "trigger = dict.fromkeys(['pin', 'source', 'edge', 'mode', 'count_num'])\n",
    "trigger['pin'] = 1  # 设置1号触发引脚\n",
    "trigger['source'] = TriggerSource.INTERNAL  # 设置内部触发\n",
    "trigger['edge'] = TriggerEdge.RISING  # 设置上升沿触发\n",
    "trigger['mode'] = TriggerMode.UNCOUNTING  # 设置非计数模式\n",
    "trigger['count_num'] = 0  # 非计数模式"
   ]
  },
  {
   "cell_type": "code",
   "execution_count": 14,
   "metadata": {},
   "outputs": [],
   "source": [
    "em.set_trigger(trigger)"
   ]
  },
  {
   "cell_type": "markdown",
   "metadata": {},
   "source": [
    "**4. 配置故障参数并开始攻击**"
   ]
  },
  {
   "cell_type": "code",
   "execution_count": 17,
   "metadata": {},
   "outputs": [
    {
     "data": {
      "text/plain": [
       "508224222313707405772969750337061927631746850147010328035858446361416346732335098068463315282215915047592173648509548614201049319707948332488268325075614666000959036493343536793753807515767634193195435179990172188742545371188236109"
      ]
     },
     "execution_count": 17,
     "metadata": {},
     "output_type": "execute_result"
    }
   ],
   "source": [
    "reset_toe()\n",
    "a = rsa()\n",
    "a"
   ]
  },
  {
   "cell_type": "code",
   "execution_count": 18,
   "metadata": {},
   "outputs": [],
   "source": [
    "import random"
   ]
  },
  {
   "cell_type": "code",
   "execution_count": 4,
   "metadata": {},
   "outputs": [
    {
     "ename": "NameError",
     "evalue": "name 'reset_toe' is not defined",
     "output_type": "error",
     "traceback": [
      "\u001b[1;31m---------------------------------------------------------------------------\u001b[0m",
      "\u001b[1;31mNameError\u001b[0m                                 Traceback (most recent call last)",
      "\u001b[1;32m<ipython-input-4-aa2d48346fc3>\u001b[0m in \u001b[0;36m<module>\u001b[1;34m\u001b[0m\n\u001b[1;32m----> 1\u001b[1;33m \u001b[0mreset_toe\u001b[0m\u001b[1;33m(\u001b[0m\u001b[1;33m)\u001b[0m\u001b[1;33m\u001b[0m\u001b[1;33m\u001b[0m\u001b[0m\n\u001b[0m\u001b[0;32m      2\u001b[0m \u001b[1;32mfor\u001b[0m \u001b[0mi\u001b[0m \u001b[1;32min\u001b[0m \u001b[0mtnrange\u001b[0m\u001b[1;33m(\u001b[0m\u001b[1;36m10\u001b[0m\u001b[1;33m)\u001b[0m\u001b[1;33m:\u001b[0m\u001b[1;33m\u001b[0m\u001b[1;33m\u001b[0m\u001b[0m\n\u001b[0;32m      3\u001b[0m     \u001b[0mem_power\u001b[0m \u001b[1;33m=\u001b[0m \u001b[0mrandom\u001b[0m\u001b[1;33m.\u001b[0m\u001b[0mrandint\u001b[0m\u001b[1;33m(\u001b[0m\u001b[1;36m0\u001b[0m\u001b[1;33m,\u001b[0m \u001b[1;36m100\u001b[0m\u001b[1;33m)\u001b[0m  \u001b[1;31m# 电磁能量\u001b[0m\u001b[1;33m\u001b[0m\u001b[1;33m\u001b[0m\u001b[0m\n\u001b[0;32m      4\u001b[0m     \u001b[0mglitch_pulse\u001b[0m \u001b[1;33m=\u001b[0m \u001b[0mrandom\u001b[0m\u001b[1;33m.\u001b[0m\u001b[0mrandint\u001b[0m\u001b[1;33m(\u001b[0m\u001b[1;36m5\u001b[0m\u001b[1;33m,\u001b[0m \u001b[1;36m10\u001b[0m\u001b[1;33m)\u001b[0m  \u001b[1;31m# 毛刺宽度 -- 必须这个范围不准更改\u001b[0m\u001b[1;33m\u001b[0m\u001b[1;33m\u001b[0m\u001b[0m\n\u001b[0;32m      5\u001b[0m     \u001b[0mglitch_delay\u001b[0m \u001b[1;33m=\u001b[0m \u001b[0mrandom\u001b[0m\u001b[1;33m.\u001b[0m\u001b[0mrandint\u001b[0m\u001b[1;33m(\u001b[0m\u001b[1;36m0\u001b[0m\u001b[1;33m,\u001b[0m \u001b[1;36m600000000\u001b[0m\u001b[1;33m)\u001b[0m  \u001b[1;31m# 毛刺延迟\u001b[0m\u001b[1;33m\u001b[0m\u001b[1;33m\u001b[0m\u001b[0m\n",
      "\u001b[1;31mNameError\u001b[0m: name 'reset_toe' is not defined"
     ]
    }
   ],
   "source": [
    "reset_toe()\n",
    "for i in tnrange(10):\n",
    "    em_power = random.randint(0, 100)  # 电磁能量\n",
    "    glitch_pulse = random.randint(5, 10)  # 毛刺宽度 -- 必须这个范围不准更改\n",
    "    glitch_delay = random.randint(0, 600000000)  # 毛刺延迟\n",
    "    params={'AMP':em_power, 'GLITCH':[(glitch_delay, glitch_pulse)]}\n",
    "    em.set_params(params)\n",
    "    em.arm() # 激活毛刺\n",
    "    c = rsa() # 加密\n",
    "    print(i, c, params)\n",
    "    s = em.attack_status()\n",
    "    if s:\n",
    "        print(i, f'Not Triggered {s}')\n",
    "    '''\n",
    "    user code \n",
    "    '''\n",
    "    reset_toe()"
   ]
  },
  {
   "cell_type": "code",
   "execution_count": null,
   "metadata": {},
   "outputs": [],
   "source": []
  }
 ],
 "metadata": {
  "kernelspec": {
   "display_name": "Python 3",
   "language": "python",
   "name": "python3"
  },
  "language_info": {
   "codemirror_mode": {
    "name": "ipython",
    "version": 3
   },
   "file_extension": ".py",
   "mimetype": "text/x-python",
   "name": "python",
   "nbconvert_exporter": "python",
   "pygments_lexer": "ipython3",
   "version": "3.6.8"
  },
  "toc-autonumbering": true
 },
 "nbformat": 4,
 "nbformat_minor": 4
}
